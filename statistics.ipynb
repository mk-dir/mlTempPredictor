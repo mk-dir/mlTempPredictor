{
 "cells": [
  {
   "cell_type": "code",
   "execution_count": 3,
   "metadata": {},
   "outputs": [
    {
     "name": "stdout",
     "output_type": "stream",
     "text": [
      "30\n"
     ]
    }
   ],
   "source": [
    "sample= [70, 36, 43, 69, 82, 48, 34, 62, 35, 15,\n",
    "59, 139, 46, 37, 42, 30, 55, 56, 36, 82,\n",
    "38, 89, 54, 25, 35, 24, 22, 9, 56, 19]\n",
    "\n",
    "print(len(sample))"
   ]
  },
  {
   "cell_type": "code",
   "execution_count": 4,
   "metadata": {},
   "outputs": [],
   "source": [
    "from median import calc_median"
   ]
  },
  {
   "cell_type": "code",
   "execution_count": 5,
   "metadata": {},
   "outputs": [
    {
     "name": "stdout",
     "output_type": "stream",
     "text": [
      "Median:  (None, 42.5)\n"
     ]
    }
   ],
   "source": [
    "# median_value1=int((len(sample)/2))-1\n",
    "# print(median_value1)\n",
    "print(\"Median: \",calc_median(sample))"
   ]
  },
  {
   "cell_type": "code",
   "execution_count": 6,
   "metadata": {},
   "outputs": [
    {
     "name": "stdout",
     "output_type": "stream",
     "text": [
      "Sample Size:  11\n",
      "Sample Sorted:  [18, 45, 55, 70, 76, 83, 88, 90, 92, 95, 98]\n",
      "Median S2:  (83, 5.0)\n"
     ]
    }
   ],
   "source": [
    "import median\n",
    "\n",
    "sample2=[98,90,70,18,92,55,83,45,95,88,76]\n",
    "print('Sample Size: ',len(sample2))\n",
    "sample2.sort()\n",
    "print('Sample Sorted: ',sample2)\n",
    "print(\"Median S2: \",calc_median(sample2))\n",
    "\n",
    "\n"
   ]
  },
  {
   "cell_type": "code",
   "execution_count": 7,
   "metadata": {},
   "outputs": [
    {
     "name": "stdout",
     "output_type": "stream",
     "text": [
      "['__builtins__', '__cached__', '__doc__', '__file__', '__loader__', '__name__', '__package__', '__spec__', 'calc_median']\n"
     ]
    }
   ],
   "source": [
    "import median\n",
    "\n",
    "print(dir(median))"
   ]
  },
  {
   "cell_type": "code",
   "execution_count": 8,
   "metadata": {},
   "outputs": [
    {
     "name": "stdout",
     "output_type": "stream",
     "text": [
      "\n",
      "Quartile One 5.0\n"
     ]
    }
   ],
   "source": [
    "from quartiles import quartile1\n",
    "print()\n",
    "sample2.sort()\n",
    "print('Quartile One',quartile1(sample2))"
   ]
  }
 ],
 "metadata": {
  "kernelspec": {
   "display_name": "Python 3.10.8 ('venv': venv)",
   "language": "python",
   "name": "python3"
  },
  "language_info": {
   "codemirror_mode": {
    "name": "ipython",
    "version": 3
   },
   "file_extension": ".py",
   "mimetype": "text/x-python",
   "name": "python",
   "nbconvert_exporter": "python",
   "pygments_lexer": "ipython3",
   "version": "3.10.8"
  },
  "orig_nbformat": 4,
  "vscode": {
   "interpreter": {
    "hash": "a01eb2db088cb7e6de240066439745dbd1eba0f3e680caa4893ff662665df2dc"
   }
  }
 },
 "nbformat": 4,
 "nbformat_minor": 2
}
